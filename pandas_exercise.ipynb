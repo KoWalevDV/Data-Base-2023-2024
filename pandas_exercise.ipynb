{
  "cells": [
    {
      "cell_type": "markdown",
      "metadata": {
        "id": "yY5FibeSu3f7"
      },
      "source": [
        "# Основы машинного обучения: лабораторная работа №1\n",
        "## Задание 3. Знакомство с Pandas\n",
        "\n",
        "В этом задании необходимо научиться базовым приемам работы с данными. Необходимо загрузить заданный по варианту датасет, провести разведочный анализ данных, сформулировать гипотезы о возможном значении всех полей в датасете, проверить эти гипотезы, и ответить на вопросы по данным. <!-- Если в конкретном задании не указано иное, проводить очистку данных (удаление пустых и невалидных значений) не нужно. -->\n",
        "\n",
        "### Цель\n",
        "\n",
        "Знакомство с разведочным анализом данных и применение Pandas для извлечения информации\n",
        "\n",
        "### Оценивание и баллы\n",
        "\n",
        "За это задание в общей сложности можно получить до 7 баллов. Задание частично проверяется автоматически, а частично будет оцениваться вручную. Чтобы получить максимальный балл,  необходимо успешно выполнить приведенные ниже задачи.\n",
        "\n",
        "## Важные замечания\n",
        "\n",
        "1. *Откройте этот файл в своем репозитории на GitHub и скопируйте адрес из адресной строки браузера. Перейдтие в [Google Colab](https://colab.research.google.com/), выберите `Файл -> Открыть ноутбук -> GitHub`, вставьте скопированный URL и нажмите кнопку поиска (кнопка с лупой справа от поля ввода строки для поиска). В Google Colab откроется копия этого ноутбука из персонального репозитория на GitHub.*\n",
        "2. *Не удаляйте и не изменяйте имена переменных в ячейках с кодом ниже. Можно добавлять в каждую ячейку произвольное количество строк кода, главное - сохранить результат решения задачи в предопределенную (-ые) переменную (-ые) в соответствующей ячейке. Если этого не сделать, автоматические тесты не будут пройдены.*\n",
        "3. *Чтобы сохранить работу, выбрите `Файл -> Сохранить копию на GitHub` и __вручную выберите правильный репозиторий из раскрывающегося списка__.*\n",
        "4. *Если в процессе выполнения задания этот файл окажется испорчен, ознакомьтесь с инструкцией в ноутбуке [jupyter_assignment](jupyter_assignment.ipynb), раздел \"Повторная сдача\".*  \n"
      ],
      "id": "yY5FibeSu3f7"
    },
    {
      "cell_type": "markdown",
      "metadata": {
        "id": "qGCcUY0du3f9"
      },
      "source": [
        "#### Задачи\n",
        "\n",
        "#### 1. Определить номер варианта\n",
        "Перейдите по ссылке из личного кабинета на Google Таблицу со списком студентов. Найдите свое ФИО в списке и запомните соответствующий порядковый номер (поле № п/п) в первом столбце. Заполните его в ячейке ниже и выполните ячейку. Если вы не можете найти себя в списке, обратитесь к своему преподавателю."
      ],
      "id": "qGCcUY0du3f9"
    },
    {
      "cell_type": "code",
      "execution_count": 44,
      "metadata": {
        "id": "wUCzBCsJu3f9"
      },
      "outputs": [],
      "source": [
        "### BEGIN YOUR CODE\n",
        "\n",
        "Student_ID = 15\n",
        "\n",
        "### END YOUR CODE"
      ],
      "id": "wUCzBCsJu3f9"
    },
    {
      "cell_type": "markdown",
      "metadata": {
        "id": "x9kVFeGzu3f-"
      },
      "source": [
        "Теперь выполните следующую ячейку. Она вычислит номер задания и выведет его."
      ],
      "id": "x9kVFeGzu3f-"
    },
    {
      "cell_type": "code",
      "execution_count": 45,
      "metadata": {
        "id": "jiTxaH41u3f-",
        "outputId": "f3bd3085-8feb-4bc4-c385-b20eac2962d0",
        "colab": {
          "base_uri": "https://localhost:8080/"
        }
      },
      "outputs": [
        {
          "output_type": "stream",
          "name": "stdout",
          "text": [
            "Датасет 'Chipotle' доступен по следующей ссылке: https://raw.githubusercontent.com/justmarkham/DAT8/master/data/chipotle.tsv\n",
            "В заданиях ниже, где нужно выбрать вопрос, всегда выбирайте вопрос № 1\n"
          ]
        }
      ],
      "source": [
        "datasets = [('Chipotle','https://raw.githubusercontent.com/justmarkham/DAT8/master/data/chipotle.tsv'), ('US Air Carrier market in 2019','https://raw.githubusercontent.com/markpolyak/datasets/refs/heads/main/data/aircarrier_market_us_2019.zip'), ('Open Food Facts', 'https://raw.githubusercontent.com/markpolyak/datasets/refs/heads/main/data/en.openfoodfacts.org.products.tsv.tar.bz2')]\n",
        "\n",
        "dataset_id = None if Student_ID is None else Student_ID % 3\n",
        "if dataset_id is None:\n",
        "    print(\"ОШИБКА! Не указан порядковый номер студента в списке группы.\")\n",
        "else:\n",
        "    print(f\"Датасет '{datasets[dataset_id][0]}' доступен по следующей ссылке: {datasets[dataset_id][1]}\")\n",
        "    print(f\"В заданиях ниже, где нужно выбрать вопрос, всегда выбирайте вопрос № {dataset_id+1}\")"
      ],
      "id": "jiTxaH41u3f-"
    },
    {
      "cell_type": "markdown",
      "metadata": {
        "id": "n7JAyf8Eu3f-"
      },
      "source": [
        "Скачайте датасет с помощью команды `!wget <dataset_url>`, где `<dataset_url>` необходимо заменить на ссылку на датасет, появившуюся после выполнения предыдущей ячейки. При необходимости разархивируйте датасет, используя команды `!unzip`, `!tar` и др.\n",
        "\n",
        "*Примечание: в Jupyter-ноутбуке можно использовать любые команды командного интерпретатора bash. Для этого необходимо поставить в ячейке с кодом восклицательный знак `!`, после которого записать команду bash со всеми необходимыми аргументами. Результат выполнения этой команды bash будет возвращен в Jupyter и его можно использовать в коде на Python.*"
      ],
      "id": "n7JAyf8Eu3f-"
    },
    {
      "cell_type": "code",
      "execution_count": 46,
      "metadata": {
        "id": "MAxUpQzHu3f-",
        "outputId": "8055b7c0-9dec-4eab-b142-584277ea48fc",
        "colab": {
          "base_uri": "https://localhost:8080/"
        }
      },
      "outputs": [
        {
          "output_type": "stream",
          "name": "stdout",
          "text": [
            "--2024-11-11 19:38:23--  https://raw.githubusercontent.com/justmarkham/DAT8/master/data/chipotle.tsv\n",
            "Resolving raw.githubusercontent.com (raw.githubusercontent.com)... 185.199.108.133, 185.199.109.133, 185.199.110.133, ...\n",
            "Connecting to raw.githubusercontent.com (raw.githubusercontent.com)|185.199.108.133|:443... connected.\n",
            "HTTP request sent, awaiting response... 200 OK\n",
            "Length: 364975 (356K) [text/plain]\n",
            "Saving to: ‘chipotle.tsv.3’\n",
            "\n",
            "\rchipotle.tsv.3        0%[                    ]       0  --.-KB/s               \rchipotle.tsv.3      100%[===================>] 356.42K  --.-KB/s    in 0.04s   \n",
            "\n",
            "2024-11-11 19:38:23 (7.99 MB/s) - ‘chipotle.tsv.3’ saved [364975/364975]\n",
            "\n"
          ]
        }
      ],
      "source": [
        "### BEGIN YOUR CODE\n",
        "\n",
        "!wget https://raw.githubusercontent.com/justmarkham/DAT8/master/data/chipotle.tsv\n",
        "\n",
        "# !unzip ...\n",
        "# !tar ...\n",
        "# !gunzip ...\n",
        "\n",
        "### END YOUR CODE"
      ],
      "id": "MAxUpQzHu3f-"
    },
    {
      "cell_type": "markdown",
      "metadata": {
        "id": "SiXNllYnu3f_"
      },
      "source": [
        "##### 2. Загрузите датасет в pandas.DataFrame, сохраните его в переменной `df`. Cконвертируйте названия столбцов в нижний регистр"
      ],
      "id": "SiXNllYnu3f_"
    },
    {
      "cell_type": "code",
      "execution_count": 47,
      "metadata": {
        "id": "JZx2i9k_u3f_"
      },
      "outputs": [],
      "source": [
        "import pandas as pd\n",
        "df = pd.read_csv('chipotle.tsv', sep='\\t')\n",
        "df.columns = df.columns.str.lower()\n",
        "\n",
        "# Place your code to read the dataset here. Don't forget to import all the libraries you need!"
      ],
      "id": "JZx2i9k_u3f_"
    },
    {
      "cell_type": "markdown",
      "metadata": {
        "id": "Nbp5CBCCu3f_"
      },
      "source": [
        "##### 3. Какие столбцы присутствуют в наборе данных? (0.25 балла)"
      ],
      "id": "Nbp5CBCCu3f_"
    },
    {
      "cell_type": "code",
      "execution_count": 48,
      "metadata": {
        "id": "wPQqlFkHu3f_",
        "outputId": "af9821fc-4cef-4077-c3a1-b55906e6f8e1",
        "colab": {
          "base_uri": "https://localhost:8080/"
        }
      },
      "outputs": [
        {
          "output_type": "stream",
          "name": "stdout",
          "text": [
            "['order_id', 'quantity', 'item_name', 'choice_description', 'item_price']\n"
          ]
        }
      ],
      "source": [
        "columns = df.columns.tolist()\n",
        "\n",
        "print(columns)"
      ],
      "id": "wPQqlFkHu3f_"
    },
    {
      "cell_type": "markdown",
      "metadata": {
        "id": "xIk2QtFZu3f_"
      },
      "source": [
        "##### 4. Ответьте на вопрос и сохраните ответ в переменной `answer1` (0.25 балла)\n",
        "\n",
        "Вопросы:\n",
        "1. Какое блюдо (`item_name`) заказывали чаще всего?\n",
        "2. Сколько авиаперевозчиков (`carrier`) представлены в датасете?\n",
        "3. По скольки продуктам в датасете имеется информация о содержании аллергенов (`allergens`)?"
      ],
      "id": "xIk2QtFZu3f_"
    },
    {
      "cell_type": "code",
      "execution_count": 49,
      "metadata": {
        "id": "zeKnyO7qu3f_",
        "outputId": "76495f0d-4034-48aa-d239-19e604d3bd30",
        "colab": {
          "base_uri": "https://localhost:8080/"
        }
      },
      "outputs": [
        {
          "output_type": "stream",
          "name": "stdout",
          "text": [
            "Chicken Bowl\n"
          ]
        }
      ],
      "source": [
        "answer1 = df['item_name'].mode()[0]\n",
        "\n",
        "print(answer1)"
      ],
      "id": "zeKnyO7qu3f_"
    },
    {
      "cell_type": "markdown",
      "metadata": {
        "id": "lGllQuAeu3gA"
      },
      "source": [
        "##### 5. Ответьте на вопрос и сохраните ответ в переменной `answer2` (0.5 балла)\n",
        "\n",
        "Вопросы:\n",
        "1. Сколько всего было заказов блюда, название которого сохранено в `answer1`?\n",
        "2. Посчитайте общие суммарные количества перевезенных пассажиров (`passangers`), фунтов груза (`freight`) и почты (`mail`) на маршруте из Великобритании (UK) в США (US). В `answer2` запишите максимальное из трех получившихся чисел.\n",
        "3. Сколько всего продуктов, относящихся к категории \"молочные\" (`Dairies,Milks`), с заполненным названием?"
      ],
      "id": "lGllQuAeu3gA"
    },
    {
      "cell_type": "code",
      "execution_count": 50,
      "metadata": {
        "id": "i1y5cOXqu3gA",
        "outputId": "20958bd5-9fa8-4043-f8e4-645db8780ac8",
        "colab": {
          "base_uri": "https://localhost:8080/"
        }
      },
      "outputs": [
        {
          "output_type": "stream",
          "name": "stdout",
          "text": [
            "761\n"
          ]
        }
      ],
      "source": [
        "answer2 = df[df['item_name'] == answer1]['quantity'].sum()\n",
        "\n",
        "print(answer2)"
      ],
      "id": "i1y5cOXqu3gA"
    },
    {
      "cell_type": "markdown",
      "metadata": {
        "id": "CfbaFl7vu3gA"
      },
      "source": [
        "##### 6. Ответьте на вопрос и сохраните ответ в переменной `answer3` (0.5 балла)\n",
        "\n",
        "Вопросы:\n",
        "1. Какой доход получила сеть Chipotle Mexican Grill на заказах, попавших в датасет?\n",
        "2. Какой авиаперевозчик (`unique_carrier_name`) перевез больше всего груза (`mail` + `freight`)?\n",
        "3. Как называется продукт категории `Fats` с максимальной жирностью, не превышающей 30 г на 100 г продукта?"
      ],
      "id": "CfbaFl7vu3gA"
    },
    {
      "cell_type": "code",
      "execution_count": 51,
      "metadata": {
        "id": "WQ0v8f43u3gA",
        "outputId": "00dcd670-0255-4351-efe0-4166b54d600f",
        "colab": {
          "base_uri": "https://localhost:8080/"
        }
      },
      "outputs": [
        {
          "output_type": "stream",
          "name": "stdout",
          "text": [
            "39237.02\n"
          ]
        }
      ],
      "source": [
        "df['item_price'] = df['item_price'].replace('[\\$,]', '', regex=True).astype(float)\n",
        "answer3 = (df['quantity'] * df['item_price']).sum()\n",
        "\n",
        "print(answer3)"
      ],
      "id": "WQ0v8f43u3gA"
    },
    {
      "cell_type": "markdown",
      "metadata": {
        "id": "PHTsWG39u3gA"
      },
      "source": [
        "##### 7. Ответьте на вопрос и сохраните ответ в переменной `answer4` (0.5 балла)\n",
        "\n",
        "Вопросы:\n",
        "1. Каков средний доход с одного заказа?\n",
        "2. Какое максимальное количество пассажиров одна авиакомпания смогла перевезти из США в другие страны за все время?\n",
        "3. Какова энергетическая ценность в кДж продукта из России (`category_en`) имеющего максимальное содержание холистерина?"
      ],
      "id": "PHTsWG39u3gA"
    },
    {
      "cell_type": "code",
      "execution_count": 52,
      "metadata": {
        "id": "YOIVKQAru3gA",
        "outputId": "4e702223-304d-44fa-bd93-7dd770c3bfb1",
        "colab": {
          "base_uri": "https://localhost:8080/"
        }
      },
      "outputs": [
        {
          "output_type": "stream",
          "name": "stdout",
          "text": [
            "21.39423118865867\n"
          ]
        }
      ],
      "source": [
        "num_orders = df['order_id'].nunique()\n",
        "answer4 = answer3  / num_orders\n",
        "\n",
        "print(answer4)"
      ],
      "id": "YOIVKQAru3gA"
    },
    {
      "cell_type": "markdown",
      "metadata": {
        "id": "yu0xmmXsu3gA"
      },
      "source": [
        "##### 8. Ответьте на вопрос и сохраните ответ в переменной `answer5` (1 балл)\n",
        "\n",
        "Вопросы:\n",
        "1. Сколько раз был заказан самый популярный напиток (Coke, Sprite, Mountain Dew и т.п.)?\n",
        "2. Между какими двумя городами было перевезено наибольшее количество пассажиров? Учтите оба направления. Ответ запишите в виде списка из двух строк.\n",
        "3. Привести названия всех аллергенов к нижнему регистру. Какой аллерген встречается в продуктах чаще всего?"
      ],
      "id": "yu0xmmXsu3gA"
    },
    {
      "cell_type": "code",
      "execution_count": 53,
      "metadata": {
        "id": "JXzjtRfwu3gA",
        "outputId": "b5ee1e6a-4adb-4e11-8d81-21b6970c3d82",
        "colab": {
          "base_uri": "https://localhost:8080/"
        }
      },
      "outputs": [
        {
          "output_type": "stream",
          "name": "stdout",
          "text": [
            "211\n"
          ]
        },
        {
          "output_type": "stream",
          "name": "stderr",
          "text": [
            "<ipython-input-53-02f51a2231d3>:2: SettingWithCopyWarning: \n",
            "A value is trying to be set on a copy of a slice from a DataFrame.\n",
            "Try using .loc[row_indexer,col_indexer] = value instead\n",
            "\n",
            "See the caveats in the documentation: https://pandas.pydata.org/pandas-docs/stable/user_guide/indexing.html#returning-a-view-versus-a-copy\n",
            "  drinks['drink_name'] = drinks['choice_description'].apply(lambda x: x[1:-1] if pd.notnull(x) else 'Bottled Water')\n"
          ]
        }
      ],
      "source": [
        "drinks = df[df['item_name'].str.contains('Drink|Soda|Nectar|Izze|Water', case=False, na=False)]\n",
        "drinks['drink_name'] = drinks['choice_description'].apply(lambda x: x[1:-1] if pd.notnull(x) else 'Bottled Water')\n",
        "\n",
        "# Найдите самый популярный напиток\n",
        "most_popular_drink = drinks.groupby('drink_name')['quantity'].sum().idxmax()\n",
        "answer5 = drinks[drinks['drink_name'] == most_popular_drink]['quantity'].sum()\n",
        "\n",
        "print(answer5)"
      ],
      "id": "JXzjtRfwu3gA"
    },
    {
      "cell_type": "markdown",
      "metadata": {
        "id": "s2_4zXFsu3gA"
      },
      "source": [
        "##### 9. Ответьте на вопрос и сохраните ответ в переменной `answer6` (1 балл)\n",
        "\n",
        "Вопросы:\n",
        "1. Какой суммарный доход принесли напитки в заказах вегетарианцев?\n",
        "2. Для пары городов из предыдущего вопроса найдите 3 авиакомпании, которые перевезли больше всего пассажиров. Посчитайте, какой процент от общего пассажиропотока между этими городами перевезла каждая из трех авиакомпаний. В `answer6` запишите найденные проценты в виде списка из трех чисел, округлив их до двух знаков после запятой.\n",
        "3. Найти самый опасный продукт, содержащий наибольшее количество аллергенов."
      ],
      "id": "s2_4zXFsu3gA"
    },
    {
      "cell_type": "code",
      "execution_count": null,
      "metadata": {
        "id": "lVWDSZB4u3gB"
      },
      "outputs": [],
      "source": [
        "answer6 = ... # Place your code here instead of '...'\n",
        "\n",
        "print(answer6)"
      ],
      "id": "lVWDSZB4u3gB"
    },
    {
      "cell_type": "markdown",
      "metadata": {
        "id": "gNQ6e9B5u3gB"
      },
      "source": [
        "##### 10. Ответьте на вопрос и сохраните ответ в переменной `answer7` (1 балл)\n",
        "\n",
        "Вопросы:\n",
        "1. Сколько было сделано вегетарианских заказов? Заказ не считается вегетарианским, если в нем были не вегетарианские блюда.\n",
        "2. Для каждой страны найдите процент международного пассажиропотока (относительно США), используя общее количество пассажиров на рейсах класса F. В `answer7` запишите название страны с третьим по величине пассажиропотоком в/из США.\n",
        "3. Переведите названия групп продуктов (`pnns_groups_1`, `pnns_groups_2`) в нижний регистр. В переменную `answer7` запишите список, содержащий три элемента: название группы продуктов 1, название группы продуктов 2 и среднее количество пищевых волокон (`fiber`) для седьмой по насыщенности пищевыми волокнами группы продуктов."
      ],
      "id": "gNQ6e9B5u3gB"
    },
    {
      "cell_type": "code",
      "execution_count": null,
      "metadata": {
        "id": "_Lt6ADRFu3gB"
      },
      "outputs": [],
      "source": [
        "answer7 = ... # Place your code here instead of '...'\n",
        "\n",
        "print(answer7)"
      ],
      "id": "_Lt6ADRFu3gB"
    },
    {
      "cell_type": "markdown",
      "metadata": {
        "id": "FJao1oLsu3gB"
      },
      "source": [
        "##### 11. Ответьте на вопрос и сохраните ответ в переменной `answer8` (1 балл)\n",
        "\n",
        "Вопросы:\n",
        "1. Какой соус или дополнительный ингредиент по выбору (`choice_description`) чаще всего берут вместе с бурито с курицей (Chicken Burrito)?\n",
        "2. В каком месяце пассажиропоток между городами, записанными в переменную `answer5`, был максимальным?\n",
        "3. Какое название у группы продуктов `pnns_groups_2`, явояющейся наиболее сбалансированной с точки зрения среднего содержания калорий, жиров и углеводов? Под \"сбалансированной\" понимать близость БЖУ к пропорции 1:1:4."
      ],
      "id": "FJao1oLsu3gB"
    },
    {
      "cell_type": "code",
      "execution_count": null,
      "metadata": {
        "id": "n1lBByyou3gB"
      },
      "outputs": [],
      "source": [
        "answer8 = ... # Place your code here instead of '...'\n",
        "\n",
        "print(answer8)"
      ],
      "id": "n1lBByyou3gB"
    },
    {
      "cell_type": "markdown",
      "metadata": {
        "id": "gtGuQtiqu3gB"
      },
      "source": [
        "##### 12. Визуализируйте данные в соответствии с заданием (1 балл)\n",
        "\n",
        "1. Построить гистограмму распределения общей стоимости заказов. Найти и отметить на графике средний чек и медианную стоимость заказа.\n",
        "2. Постройте стековую столбчатую гистограмму пассажиропотока с разбивкой по городам (отдельные столбцы) и авиакомпаниям (разбивка внутри столбца).\n",
        "3. Построить столбчатую гистограмму усредненной по группам продуктов энергетической ценности, с группировкой по `pnns_groups_1`.\n"
      ],
      "id": "gtGuQtiqu3gB"
    },
    {
      "cell_type": "code",
      "execution_count": null,
      "metadata": {
        "id": "fQVvnbmYu3gB"
      },
      "outputs": [],
      "source": [
        "# Place your code here"
      ],
      "id": "fQVvnbmYu3gB"
    }
  ],
  "metadata": {
    "kernelspec": {
      "display_name": "Python 3 (ipykernel)",
      "language": "python",
      "name": "python3"
    },
    "language_info": {
      "codemirror_mode": {
        "name": "ipython",
        "version": 3
      },
      "file_extension": ".py",
      "mimetype": "text/x-python",
      "name": "python",
      "nbconvert_exporter": "python",
      "pygments_lexer": "ipython3",
      "version": "3.7.16"
    },
    "colab": {
      "provenance": []
    }
  },
  "nbformat": 4,
  "nbformat_minor": 5
}